{
 "cells": [
  {
   "cell_type": "code",
   "execution_count": 1,
   "id": "1fd4a604",
   "metadata": {},
   "outputs": [],
   "source": [
    "#Aim:- Creation of 1D, 2D and multidimensional array (Data cube/OLAP) using numpy."
   ]
  },
  {
   "cell_type": "code",
   "execution_count": 2,
   "id": "72314321",
   "metadata": {},
   "outputs": [],
   "source": [
    "#Name :- Gulam Jawwad Khan\n",
    "#Roll No.:- 43\n",
    "#Sec :- A\n",
    "#Subject :- DSS(P.E.1)\n",
    "#Date :- 24/08/2024"
   ]
  },
  {
   "cell_type": "code",
   "execution_count": 3,
   "id": "fed0453c",
   "metadata": {},
   "outputs": [],
   "source": [
    "import numpy as np"
   ]
  },
  {
   "cell_type": "code",
   "execution_count": 4,
   "id": "8292a5f8",
   "metadata": {},
   "outputs": [],
   "source": [
    "a1 = np.array([10, 20, 30, 40, 50])"
   ]
  },
  {
   "cell_type": "code",
   "execution_count": 5,
   "id": "fada503e",
   "metadata": {},
   "outputs": [
    {
     "data": {
      "text/plain": [
       "array([10, 20, 30, 40, 50])"
      ]
     },
     "execution_count": 5,
     "metadata": {},
     "output_type": "execute_result"
    }
   ],
   "source": [
    "a1"
   ]
  },
  {
   "cell_type": "code",
   "execution_count": 8,
   "id": "7c3d9c80",
   "metadata": {},
   "outputs": [],
   "source": [
    "a2 = np.array([[10, 20, 30, 40, 50], [60, 70, 80, 90]], dtype=object)"
   ]
  },
  {
   "cell_type": "code",
   "execution_count": 9,
   "id": "6f5a5028",
   "metadata": {},
   "outputs": [
    {
     "data": {
      "text/plain": [
       "array([list([10, 20, 30, 40, 50]), list([60, 70, 80, 90])], dtype=object)"
      ]
     },
     "execution_count": 9,
     "metadata": {},
     "output_type": "execute_result"
    }
   ],
   "source": [
    "a2"
   ]
  },
  {
   "cell_type": "code",
   "execution_count": 10,
   "id": "29537365",
   "metadata": {},
   "outputs": [],
   "source": [
    "a3 = np.array([['R1','R2', 'R3', 'R4'], ['ABC', 'XYZ', 'PQR', 'EFG'], [40, 55, 64, 22]])"
   ]
  },
  {
   "cell_type": "code",
   "execution_count": 11,
   "id": "ee61ab67",
   "metadata": {},
   "outputs": [
    {
     "data": {
      "text/plain": [
       "array([['R1', 'R2', 'R3', 'R4'],\n",
       "       ['ABC', 'XYZ', 'PQR', 'EFG'],\n",
       "       ['40', '55', '64', '22']], dtype='<U11')"
      ]
     },
     "execution_count": 11,
     "metadata": {},
     "output_type": "execute_result"
    }
   ],
   "source": [
    "a3"
   ]
  },
  {
   "cell_type": "code",
   "execution_count": null,
   "id": "9806ac8d",
   "metadata": {},
   "outputs": [],
   "source": []
  }
 ],
 "metadata": {
  "kernelspec": {
   "display_name": "Python 3 (ipykernel)",
   "language": "python",
   "name": "python3"
  },
  "language_info": {
   "codemirror_mode": {
    "name": "ipython",
    "version": 3
   },
   "file_extension": ".py",
   "mimetype": "text/x-python",
   "name": "python",
   "nbconvert_exporter": "python",
   "pygments_lexer": "ipython3",
   "version": "3.9.7"
  }
 },
 "nbformat": 4,
 "nbformat_minor": 5
}
