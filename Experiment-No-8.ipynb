{
 "cells": [
  {
   "cell_type": "markdown",
   "id": "eac47575",
   "metadata": {},
   "source": [
    "# Central Tendency of Measures\n",
    "# Mean Median Mode"
   ]
  },
  {
   "cell_type": "code",
   "execution_count": null,
   "id": "d9203099",
   "metadata": {},
   "outputs": [],
   "source": [
    "#Experiment no.: 3"
   ]
  },
  {
   "cell_type": "code",
   "execution_count": null,
   "id": "202dfd2d",
   "metadata": {},
   "outputs": [],
   "source": [
    "#Aim:- To perform "
   ]
  },
  {
   "cell_type": "code",
   "execution_count": 3,
   "id": "a6e846f6",
   "metadata": {},
   "outputs": [],
   "source": [
    "#Name :- Gulam Jawwad Khan\n",
    "#Roll No.:- 43\n",
    "#Section:- A\n",
    "#Subject:- P.E.1 (DSS)\n",
    "#Date:- 27/07/2024"
   ]
  },
  {
   "cell_type": "code",
   "execution_count": 24,
   "id": "e639d54e",
   "metadata": {},
   "outputs": [],
   "source": [
    "age = [20, 21, 22, 21, 20, 21, 22, 20, 21, 21, 20, 22, 21, 21, 21]"
   ]
  },
  {
   "cell_type": "code",
   "execution_count": 26,
   "id": "d7857bf4",
   "metadata": {},
   "outputs": [
    {
     "data": {
      "text/plain": [
       "[20, 21, 22, 21, 20, 21, 22, 20, 21, 21, 20, 22, 21, 21, 21]"
      ]
     },
     "execution_count": 26,
     "metadata": {},
     "output_type": "execute_result"
    }
   ],
   "source": [
    "age"
   ]
  },
  {
   "cell_type": "code",
   "execution_count": 27,
   "id": "9eb96f78",
   "metadata": {},
   "outputs": [],
   "source": [
    "import statistics"
   ]
  },
  {
   "cell_type": "code",
   "execution_count": 28,
   "id": "6186a8b6",
   "metadata": {},
   "outputs": [],
   "source": [
    "Mean = statistics.mean(age)"
   ]
  },
  {
   "cell_type": "code",
   "execution_count": 29,
   "id": "52ac6b2f",
   "metadata": {},
   "outputs": [
    {
     "data": {
      "text/plain": [
       "20.933333333333334"
      ]
     },
     "execution_count": 29,
     "metadata": {},
     "output_type": "execute_result"
    }
   ],
   "source": [
    "Mean"
   ]
  },
  {
   "cell_type": "code",
   "execution_count": 30,
   "id": "e6473b0e",
   "metadata": {},
   "outputs": [],
   "source": [
    "Median = statistics.median(age)"
   ]
  },
  {
   "cell_type": "code",
   "execution_count": 31,
   "id": "9c65a5d8",
   "metadata": {},
   "outputs": [
    {
     "data": {
      "text/plain": [
       "21"
      ]
     },
     "execution_count": 31,
     "metadata": {},
     "output_type": "execute_result"
    }
   ],
   "source": [
    "Median"
   ]
  },
  {
   "cell_type": "code",
   "execution_count": 32,
   "id": "a2369eb6",
   "metadata": {},
   "outputs": [],
   "source": [
    "Mode = statistics.mode(age)"
   ]
  },
  {
   "cell_type": "code",
   "execution_count": 33,
   "id": "cacf0aeb",
   "metadata": {},
   "outputs": [
    {
     "data": {
      "text/plain": [
       "21"
      ]
     },
     "execution_count": 33,
     "metadata": {},
     "output_type": "execute_result"
    }
   ],
   "source": [
    "Mode"
   ]
  },
  {
   "cell_type": "code",
   "execution_count": null,
   "id": "dc2654bb",
   "metadata": {},
   "outputs": [],
   "source": []
  }
 ],
 "metadata": {
  "kernelspec": {
   "display_name": "Python 3 (ipykernel)",
   "language": "python",
   "name": "python3"
  },
  "language_info": {
   "codemirror_mode": {
    "name": "ipython",
    "version": 3
   },
   "file_extension": ".py",
   "mimetype": "text/x-python",
   "name": "python",
   "nbconvert_exporter": "python",
   "pygments_lexer": "ipython3",
   "version": "3.9.7"
  }
 },
 "nbformat": 4,
 "nbformat_minor": 5
}
